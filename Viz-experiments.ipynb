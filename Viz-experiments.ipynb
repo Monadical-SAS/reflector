{
 "cells": [
  {
   "cell_type": "markdown",
   "id": "a5ace857",
   "metadata": {},
   "source": [
    "# Visualization Experiments"
   ]
  },
  {
   "cell_type": "markdown",
   "id": "9bfc569d",
   "metadata": {},
   "source": [
    "Lets load the data artefacts to local memory. These files are to be downloaded from S3 as the pipeline automatically uploads them to the pre-configured S3 bucket."
   ]
  },
  {
   "cell_type": "code",
   "execution_count": 5,
   "id": "edc584b2",
   "metadata": {},
   "outputs": [
    {
     "name": "stderr",
     "output_type": "stream",
     "text": [
      "\u001b[32m2023-06-14 22:52:15.596\u001b[0m | \u001b[1mINFO    \u001b[0m | \u001b[36mfile_util\u001b[0m:\u001b[36mdownload_files\u001b[0m:\u001b[36m36\u001b[0m - \u001b[1mDownloading file df.pkl\u001b[0m\n",
      "\u001b[32m2023-06-14 22:52:19.079\u001b[0m | \u001b[1mINFO    \u001b[0m | \u001b[36mfile_util\u001b[0m:\u001b[36mdownload_files\u001b[0m:\u001b[36m36\u001b[0m - \u001b[1mDownloading file mappings.pkl\u001b[0m\n",
      "\u001b[32m2023-06-14 22:52:19.659\u001b[0m | \u001b[1mINFO    \u001b[0m | \u001b[36mfile_util\u001b[0m:\u001b[36mdownload_files\u001b[0m:\u001b[36m36\u001b[0m - \u001b[1mDownloading file transcript_timestamps.txt\u001b[0m\n"
     ]
    }
   ],
   "source": [
    "from file_util import download_files\n",
    "import pickle\n",
    "\n",
    "# Download files from S3 bucket. You can download multiple files at a time by passing a list of names\n",
    "files_to_download = [\"df.pkl\", \"mappings.pkl\", 'transcript_timestamps.txt']\n",
    "download_files(files_to_download)"
   ]
  },
  {
   "cell_type": "code",
   "execution_count": null,
   "id": "5027fe25",
   "metadata": {},
   "outputs": [],
   "source": [
    "# Download spacy model for the first time\n",
    "!spacy download en_core_web_md\n"
   ]
  },
  {
   "cell_type": "code",
   "execution_count": 6,
   "id": "a1fc2846",
   "metadata": {},
   "outputs": [],
   "source": [
    "import spacy\n",
    "\n",
    "spaCy_model = \"en_core_web_md\"\n",
    "nlp = spacy.load(spaCy_model)\n",
    "stopwords = nlp.Defaults.stop_words\n"
   ]
  },
  {
   "cell_type": "markdown",
   "id": "8abc435d",
   "metadata": {},
   "source": [
    "## Example template 1"
   ]
  },
  {
   "cell_type": "markdown",
   "id": "2b1a4834",
   "metadata": {},
   "source": [
    "## Scatter plot of transcription with Topic modelling"
   ]
  },
  {
   "cell_type": "markdown",
   "id": "a795137e",
   "metadata": {},
   "source": [
    "Change the values of \"category\", \"category_name\" to one agenda topic and change the value of \"not_category_name\" and see different plots."
   ]
  },
  {
   "cell_type": "code",
   "execution_count": 21,
   "id": "43e01074",
   "metadata": {},
   "outputs": [],
   "source": [
    "import pandas as pd\n",
    "import scattertext as st\n",
    "\n",
    "df = pd.read_pickle(\"df.pkl\")\n",
    "\n",
    "def plot_topic_modelling_and_word_to_sentence_search(df, cat_1, cat_1_name, cat_2_name):\n",
    "    df = df.assign(parse=lambda df: df.text.apply(st.whitespace_nlp_with_sentences))\n",
    "\n",
    "    corpus = st.CorpusFromParsedDocuments(\n",
    "        df, category_col='ts_to_topic_mapping_top_1', parsed_col='parse'\n",
    "    ).build().get_unigram_corpus().remove_terms(stopwords, ignore_absences=True).compact(st.AssociationCompactor(2000))\n",
    "    \n",
    "    html = st.produce_scattertext_explorer(\n",
    "        corpus,\n",
    "        category=cat_1, category_name=cat_1_name, not_category_name=cat_2_name,\n",
    "        minimum_term_frequency=0, pmi_threshold_coefficient=0,\n",
    "        width_in_pixels=1000,\n",
    "        transform=st.Scalers.dense_rank\n",
    "    )\n",
    "    open('./demo_compact.html', 'w').write(html)\n",
    "\n",
    "plot_topic_modelling_and_word_to_sentence_search(df,\n",
    "                                                cat_1=\"Founders\",\n",
    "                                                cat_1_name=\"Founders\",\n",
    "                                                cat_2_name=\"TAM\")\n",
    "\n",
    "# once you are done, check the generated HTML file\n"
   ]
  },
  {
   "cell_type": "markdown",
   "id": "e9994c87",
   "metadata": {},
   "source": [
    "## Example template 2"
   ]
  },
  {
   "cell_type": "markdown",
   "id": "35c4f7fd",
   "metadata": {},
   "source": [
    "## Time driven Insights"
   ]
  },
  {
   "cell_type": "code",
   "execution_count": 9,
   "id": "7cdcd66f",
   "metadata": {},
   "outputs": [],
   "source": [
    "mappings = pickle.load(open(\"mappings.pkl\", \"rb\"))\n",
    "timestamp_to_topic_first_match = mappings[0]\n",
    "timestamp_to_topic_second_match = mappings[1]\n",
    "topic_to_timestamp_first_match = mappings[2]\n",
    "topic_to_timestamp_second_match = mappings[3]"
   ]
  },
  {
   "cell_type": "code",
   "execution_count": 10,
   "id": "11221022",
   "metadata": {},
   "outputs": [
    {
     "data": {
      "image/png": "[encoded data removed]",
      "text/plain": [
       "<Figure size 720x576 with 1 Axes>"
      ]
     },
     "metadata": {
      "needs_background": "light"
     },
     "output_type": "display_data"
    },
    {
     "data": {
      "image/png": "[encoded data removed]",
      "text/plain": [
       "<Figure size 720x576 with 1 Axes>"
      ]
     },
     "metadata": {
      "needs_background": "light"
     },
     "output_type": "display_data"
    }
   ],
   "source": [
    "import collections \n",
    "import seaborn as sns\n",
    "import matplotlib.pyplot as plt\n",
    "\n",
    "def plot_time_spent_for_topic(mapping, order):\n",
    "    topic_times = collections.defaultdict(int)\n",
    "    for key in mapping.keys():\n",
    "        duration = key[1] - key[0]\n",
    "        topic_times[mapping[key]] += duration\n",
    "    \n",
    "    keys = list(topic_times.keys())\n",
    "    vals = [int(topic_times[k]) for k in keys]    \n",
    "    plt.figure(figsize=(10,8))\n",
    "    sns.barplot(x=vals, y=keys).set(title='Time spent on ' + order +  ' matched topic')\n",
    "\n",
    "        \n",
    "\n",
    "plot_time_spent_for_topic(timestamp_to_topic_first_match, \"first\")\n",
    "plot_time_spent_for_topic(timestamp_to_topic_second_match, \"second\")"
   ]
  },
  {
   "cell_type": "code",
   "execution_count": 22,
   "id": "a691664f",
   "metadata": {},
   "outputs": [],
   "source": [
    "import collections\n",
    "topic_times = collections.defaultdict(int)\n",
    "for key in timestamp_to_topic_first_match.keys():\n",
    "    duration = key[1] - key[0]\n",
    "    topic_times[timestamp_to_topic_first_match[key]] += duration\n",
    "\n",
    "topic_times = sorted(topic_times.items(), key=lambda x:x[1], reverse=True)\n",
    "cat_1 = topic_times[0][0]\n",
    "cat_1_name = topic_times[0][0]\n",
    "cat_2_name = topic_times[1][0]"
   ]
  },
  {
   "cell_type": "code",
   "execution_count": 23,
   "id": "6451e86d",
   "metadata": {},
   "outputs": [],
   "source": [
    "import pandas as pd\n",
    "import scattertext as st\n",
    "\n",
    "df = pd.read_pickle(\"df.pkl\")\n",
    "\n",
    "def plot_topic_modelling_and_word_to_sentence_search(df, cat_1, cat_1_name, cat_2_name):\n",
    "    df = df.assign(parse=lambda df: df.text.apply(st.whitespace_nlp_with_sentences))\n",
    "\n",
    "    corpus = st.CorpusFromParsedDocuments(\n",
    "        df, category_col='ts_to_topic_mapping_top_1', parsed_col='parse'\n",
    "    ).build().get_unigram_corpus().remove_terms(stopwords, ignore_absences=True).compact(st.AssociationCompactor(2000))\n",
    "    \n",
    "    html = st.produce_scattertext_explorer(\n",
    "        corpus,\n",
    "        category=cat_1, category_name=cat_1_name, not_category_name=cat_2_name,\n",
    "        minimum_term_frequency=0, pmi_threshold_coefficient=0,\n",
    "        width_in_pixels=1000,\n",
    "        transform=st.Scalers.dense_rank\n",
    "    )\n",
    "    open('./demo_compact.html', 'w').write(html)\n",
    "\n",
    "plot_topic_modelling_and_word_to_sentence_search(df,\n",
    "                                                cat_1=cat_1,\n",
    "                                                cat_1_name=cat_1_name,\n",
    "                                                cat_2_name=cat_2_name)\n",
    "\n",
    "# once you are done, check the generated HTML file\n"
   ]
  },
  {
   "cell_type": "markdown",
   "id": "e9ae6e25",
   "metadata": {},
   "source": [
    "## Example template 3"
   ]
  },
  {
   "cell_type": "markdown",
   "id": "69be38ce",
   "metadata": {},
   "source": [
    "## Enhanced search for timelines"
   ]
  },
  {
   "cell_type": "markdown",
   "id": "f8a47348",
   "metadata": {},
   "source": [
    "We can already search for a particular word in the interactive HTML document from example 1 to see a list of all transcribed sentences having an occurence of the word (in the context of the chosen topic). \n",
    "\n",
    "We can also retrieve all the segments(timestamps)in the transcription, related to a particular topic, to\n",
    "\n",
    "i) Segregrate all content on a particular topic of importance.\n",
    "\n",
    "ii) Perform selective summarization of the segregated content to make productive follow-ups. (Maybe use a model to extract action items and announcements from the transcription or selective summary ? )\n",
    "\n",
    "iii) Use the timestamps to highlight video / audio / transcription segments.\n",
    "\n",
    "iv) Jump to a desired segment of video / audio / transcription."
   ]
  },
  {
   "cell_type": "code",
   "execution_count": 13,
   "id": "69d814c9",
   "metadata": {},
   "outputs": [
    {
     "name": "stdout",
     "output_type": "stream",
     "text": [
      "Timelines where Product market fit was covered : \n"
     ]
    },
    {
     "data": {
      "text/plain": [
       "[(236.0, 240.0),\n",
       " (251.12, 255.36),\n",
       " (263.44, 268.16),\n",
       " (268.16, 274.24),\n",
       " (279.2, 293.0),\n",
       " (293.0, 299.0),\n",
       " (328.84, 330.6),\n",
       " (334.2, 337.12),\n",
       " (426.24, 430.96),\n",
       " (448.16, 451.16),\n",
       " (451.16, 454.08),\n",
       " (508.0, 585.84),\n",
       " (906.0, 926.4),\n",
       " (926.4, 933.2),\n",
       " (1056.16, 1060.8),\n",
       " (1136.48, 1140.72),\n",
       " (1966.08, 1971.52),\n",
       " (2122.9, 2127.0),\n",
       " (2217.64, 2220.36),\n",
       " (2222.12, 2224.84),\n",
       " (2472.44, 2474.96)]"
      ]
     },
     "execution_count": 13,
     "metadata": {},
     "output_type": "execute_result"
    }
   ],
   "source": [
    "def retrieve_time_segments(topic):\n",
    "    return topic_to_timestamp_first_match[topic]\n",
    "\n",
    "search_topic = \"Product market fit\"\n",
    "print(\"Timelines where \" + search_topic + \" was covered : \")\n",
    "time_segments_of_interest = retrieve_time_segments(topic=search_topic)\n",
    "time_segments_of_interest"
   ]
  },
  {
   "cell_type": "markdown",
   "id": "b587da79",
   "metadata": {},
   "source": [
    "## Selective segregation of content"
   ]
  },
  {
   "cell_type": "code",
   "execution_count": 122,
   "id": "5dc2014f",
   "metadata": {},
   "outputs": [],
   "source": [
    "import json\n",
    "import ast\n",
    "\n",
    "time_segments_of_interest = retrieve_time_segments(\"Founders\")\n",
    "\n",
    "ts_transcript = {}\n",
    "with open(\"transcript_timestamps.txt\", \"r\") as f:\n",
    "    ts_transcript = f.read()\n",
    "ts_transcript = ast.literal_eval(ts_transcript)\n",
    "\n",
    "selective_transcribed_content = \"\"\n",
    "for chunk in ts_transcript[\"chunks\"]:\n",
    "    if chunk[\"timestamp\"] in time_segments_of_interest:\n",
    "        selective_transcribed_content += chunk[\"text\"]"
   ]
  },
  {
   "cell_type": "code",
   "execution_count": 121,
   "id": "caeff7f1",
   "metadata": {},
   "outputs": [
    {
     "data": {
      "text/plain": [
       "\" companies and help them grow. And the funds that we raise will be a mix of, you know, my connections are connections and partners is going to put us in front of a lot of different investors that they know which is why I was working on the pitch stack and this more to come. So I was planning on doing this talk a bit later, but we spoke to the head of Edbett partners this week. He would prefer us to have more of a pipeline, what we can speak to investors, meeting companies that were close to pulling the all the details of the early research. But I'd like to get started at least meeting founders of these super early stage companies because that's what work focused on. And the thing is, given, you know, we have 36, 37 employees all around the world, it makes way more sense that it can be helpful. If I give everyone on the team a bit of a ground dean and just what you should be looking for, what some of the key characteristics are of a company that can scale well and become huge one day. Because you know, we're not looking to invest in the the dry cleaners down the street. Maybe a fine business, but it's not a business sake. You really take to become a large enterprise and make a ton of money, which is what we're focused on. So if I kind of train everyone or at least explain these concepts and you guys all have your own networks, you're all different parts of the world, you have friends and your friends, the cool local tech company, you could send it my way, I could always reach out to the founder. Most people are always very, very happy to speak to investors because pretty much everybody in the start a world needs my. So that's the point today. Just before I jump into the stock you been here, does anyone have any questions on that in the funds? I think we had one before, right? So again. I didn't understand. Okay, anyway. Which part? I'm just in terms of what we're looking for. So Jen, I think you're asking about it return. I mean, realistically, it was startups. So many of them go bankrupt, right? Like you invest, it's just intentions. It's just what it's, it's the nature of the game. I would expect maybe two of them or three of them You break even. Maybe five or six are complete zeros, which happens very small return, or, you know, some sort of recovery, but a loss. And then maybe one or two toall, which is even new. You've got to really do what we're doing. All right, so all of your answers. The first is Tam. And obviously, the biggest companies now are AWS and Azure. And they have big market share, but let's say one company using that example. So that would be the tab. So when you're investing, and I said, you don't really want to look at the drag cleaners down the street. It's because we want to company that's starting but as an investor, we don't really want to touch that because the ability to get that 10, 20, I don't know, does anyone know Etsy? They do like local kind of arts and grass are very customized and you deal people online. has been extremely extremely well. competitor's like Amazon mostly ignored it, because they didn't really see the potential. So there's other, there's exceptions to the rule. on a stuff off Etsy. Anyone have any questions on time, but we're companies that could think of and to curious if it's a big enough time or not? One question, Jordan. When you're talking about market, how do you define a market, meaning that as we're located in different countries, how we can tell, this is going to be big here in my country, in my city, in my neighborhood. Well, no, no, no, in my neighborhood. But you know what I mean? So. Yeah. so depends on the company's plan, but generally, Tam would be the total market that you can reasonably address. So, for Amazon, it's global online commerce, right? Like, they touch everything. So, any sort of retail online, that Tam is on Tam. Cloud computing in any country. Amazon operates in all of them. So, if you're a local company, you have zero plans. Let's say you're in Canada and you're zero plans to go to the US. You can't really count the US. But if you're in a long-term plan is to go to the US and there's no roadblocks. Like let's say you're selling food. It's very hard to import food over borders. People do it, but it's harder. The US would not be your town. If you're a tech company, there's zero limitations like Shopify. Clearly Shopify is a Canadian company, but their town is global. Because they're not a Canadian company. But they're not a Canadian company. But they're not a Canadian company. But they're not a Canadian company. But they're not a Canadian company. But they're not a Canadian company. But they're not a Canadian company. But they're not a Canadian company. But they're not a Canadian company. But they're not a Canadian company. But they're not a Canadian company. But they're not a Canadian company. But they're not a Canadian company. But they're not a Canadian company. But they're not a Canadian company. But they're not a Canadian company. But they're not a Canadian company. But they're not a Canadian company. But they're not a Canadian company. But they're not a Canadian company. But they're not a Canadian company. But they're not a Canadian company. But they're not a Canadian company. But they're not a Canadian company. But they're not a Canadian company. But they're not a Canadian company. But they're not a Canadian company. But they're not a Canadian company. But they're not a Canadian company. But they're not a Canadian company. But they're not a Canadian company. But they're not a Canadian company. But they're not a Canadian company. But they're not a Canadian company. But they're not a Canadian company. But they're not a Canadian company. But they're not a Canadian tab. If you're a tech company there's zero limitations like Shopify, So it depends on the type of company but yeah most companies we're going to be looking at are going to have global tabs so it's going to be worldwide or at least most of the development of the world which is the big chunk of the world like coffee. Okay so the next concept is product market that I wrote, and you start selling. Unfortunately, most of what we're gonna be investing in is before that, they haven't actually launched the products. And of course internally, we deal a lot of companies like Birch and poker where we have a good idea. You know, what it's going to be like and we'll fix it. But we won't really know till we go into the market. One of the things we guessed right, one of the things we guessed wrong and how keen we adjust it. So there's a few things to think about. And we're going to be investing before companies are really selling. The good thing is you get them cheaper. Like if you invest in the market, you can invest in the market.'s probably because they haven't gone to market, then all sales. Like once they start selling and it's clear. Click. Like most people consider that already ready for series a, which is a further venture round. And a lot of the valuations could be like 20 30 million. please come with 630, you couldn't see a closely where. So that saves a lot of, that saves people time and pain. some new product that gives them revenue, they're going to buy that. So for that example, think about booking.com. A soup everyone is booking.. It's like the biggest travel website in the world. And the customer there on that side is the hotels. The hotels are all tied in and the hotels know, oh, booking has staggergated so many customers like you were ready to travel and go to the hotels. If I'm a hotel in the Milan, I better tie it to booking.com. Is everyone's going to be pay booking 20% of the costs of the hotel later, 15 to 20, which is what they charge, they're going to do it because they're going to bring in a ton of revenue. And that's why bookings are huge, huge business. And finally, it could bring the customer something like enjoyment. So think about Netflix, right? It could bring us them joy. It entertainment and a value that same with the intent that right doesn't save time or money obviously. We're generating revenue, but it breaks people entertainment that they're willing to pay for. So when we're evaluating companies think of kind of those three buckets, it really focus on is this company providing one of those in a way that people are going to want to pay for is an an expense. Anyway, any questions there or thoughts about other companies you come across to do that well? Okay, I'll keep moving along. I'll stop and escape and for questions and just jump in a razor hand if you have them. Okay, the next one is unit economics. What does that mean? your hand if you have them. Okay, the next one is unit economics. What does that mean? As looking at the total profit, for selling the product or service or whatever it is, minus the all in costability. And you want it to be attractive. If you don't want it like self-something, and cost 99 cents to deliver it, you sell per buck, cost 99 cents in your profits like 1% that's awful. So the way to measure this is revenue minus direct costs. And that's the unit economic itself. Because unit economic and all that. And that's the same thing. And that's the same thing. And that's the same thing. And that's the same thing. And that's the same thing. And that's the same thing. And that's the same thing. And that's the same thing. And that's the same thing. And that's the same thing. And that's the same thing. And that's the same thing. And that's the same thing. And that's the same thing. And that's the same thing. And that's the same thing. And that's the same thing. And that's the same thing. And that's the same thing. And that's the same thing. And that's the same thing. And that's the same thing. And that's the same thing. And that's the same thing. And that's the same thing. And that's the same thing. And that's the same thing. And that's the same thing. And that's the same thing. And that's the same thing. And that's the same thing. And that's the same thing. And that's the same thing. And that's the same thing. And that's the same thing. And that's the same thing. And that's the same thing. And that's the same thing. And that's the same thing. And that's the same thing. And that's the same thing. And that's the same thing. And that's the same thing. And that's the way to measure this is revenue minus direct costs. And that's the unit economic itself because unit economics mean building that one thing without all the overhead. So let's ignore, you know, let's look at the analytical for example, what are the unit economics? It's what we we build our developers at minus the developer's salary, that's the unit economics. Every company has certain amounts that overhead, they aren't direct, but you still need to build off of. So let's say, anyone on the opposite, anyone in my role who's not writing code, not billed by by the week or month, that would be more on the fixed costs side. Anyone on building code is kind of like in business we call like a And the next step of that is incremental margin. Let's say, let's say your Facebook. Facebook But once you get through certain levels, it's completely incremental, and it works really well. Some other businesses with really high incremental contribution margin, Master Card and Visa, like they have some of the highest profit margins in the world. Why? Is there any set up, right? Like there's really just so epic at a car cost almost nothing. They get a fee every single time to do it. They're ready fully staffed. So you know 100 more businesses turn on tomorrow say, hey, I'm going to take master card. eventually. The next one ties into that. So's lifetime value and cutthener acquisition cost. The first is lifetime value. Life-in-value means how much is a customer going to spend on your business? Over his vote customer existence. So obviously for customers going to stick around for one year, it's not as valuable as a company that's going to stick around or or client's going to stick around for ten years. So it's how much is spending average for times, how many purchases they'll make over their lifetime. margins because people spend so much in the living relief. Yeah, and on you got kids, you need Costco, you have teenagers that's clear. Or just starting our Costco journey because my kids are young, but yeah, my wife's there all the time now And then the other measurement here that's important is customer acquisition costs Sorry, just the keeps take digital like the value same thing for Amazon right like once they acquire customer the customer tends to order order order or I like that value is huge and it's still growing because Amazon sees very little customers actually just at right quit and since the like there's been customers find on Amazon since 1998 and they're still by a time so that value just keeps going and going. customer acquisition costs measures the cost of starting the first time. So the way to calculate that is look at the cost of sales. So it could be like advertising and marketing people. Plus the cost. Yeah, so the cost of advertising marketing people building up your brands all that for software. It's generally those of the costs and what you measure is okay. We added a thousand new customers this quarter. We spend a million dollars a year. And we're going to have a lot of money. And we're going to have a lot of money. And we're going to have a lot of money. And we're going to have a lot of money. And we're going to have a lot of money. And we're going to have a lot of money. And we're going to have a lot of money. And we're going to have a lot of money. And we're going to have a lot of money. And we're going to have a lot of money. And we're going to have a lot of money. And we're going to have a lot of money. And we're going to have a lot of money. And we're going to have a lot of money. And we're going to have a lot of money. And we're going to have a lot of money. And we're going to have a lot of money. And we're going to have a lot of money. And we're going to have a lot of money. And we're going to have a lot of money. And we're going to have a lot of money. And we're going to have a lot of money. And we're going to have a lot of money. And we're going to have a lot of money. And we're going to have a lot of money. And we're going to have a lot of money. And we're going to have a lot of money. And we're going to have a lot of money. And we're going to have a lot of money. And we're going to have a lot of money. And we're going to have a lot of money. And we're going to have a lot of money. For software, it's generally those that will cost and what you measure is okay. We added a thousand new customers this quarter. We spent a million dollars on marketing. So clearly the cost for new addition was a thousand. Let's say the average customer is going to spend $4,000 over their lifetime, which is a pretty good ratio. That's 401. Anything over three is good and for software, if we stick with the dollars to my translate to 3000, the unit contribution, profit contribution. So here you spent the thousands, get four thousand sales and three thousand profit, that's pretty good. That's why it's such an important measure, right? Like you created so much value. In that example, every customer you add just like us, you really want to see that. And a lot of our companies won't have that yet, but it's still an important concept to understand because as you scale and do other rounds, I promise venture capital, venture capitalists look at that very, very well. Something else to get Like the cheapest way to grow is a word of matter, right? Like Amazon didn't spend any money on paid advertising for years and years and years. Like Jeff Bezos would just say, grand the other things, go to conferences and be featured in variants and like all these people who didn't know what Amazon and 97, like all of a sudden, they're getting all over the front page of the Wall Street Journal, a lot of pain for people who are like, oh, I've got to check out this new thing, but Amazon, actually, there's a look at increasingly, Bezos new thing. Go Amazon. Um, actually, I was listening recently. Basics went public early with Amazon when they're pretty small because you've got to be great publicity and free press. you got to come check it out and start start coding here too and post it at all. So their is them, but them is three or higher and under that you don't really want it. I'll just wait a second any questions. Yeah, that's a fair point on address. Tesla had like way more demands than supply. So that any to spend anything on ads. Now they supply cut up and demands flattening in a bit. So I actually have to start spending some money. But you're saying that there's still spending very little. Yeah, you're right eventually I've just been more of that but you're right. Um, okay. I'm actually have a question now. How much? Like in normal company like how much would you spend on a bit of time? Like how pretty much, how much was spend on other times? Well, it's an equation, right? Like, cack to LTV and it kind of solved math at the end of the if you had perfect knowledge and you need like one more piece of advertising drove like, like, two customers, Because that's just the math equation. Does that make sense? Like if you spend the dollar on ads and it contributed to $2 in gross profit, cool, you know, that's working and without having to invest any more infrastructure. Realize a lot more complicated, right? Like if you're, um, I don't know. Well, let's see, I have a like you don't really want to sacrifice a ton and be huge and everywhere and then getting to ubiquitous because you grab it damage your brands. But just been like an economic textbook theory and be like it'd be that basic math. Okay, turn. So we all know what turn is, the turn in, turn out canceling Netflix, whatever. So turn fits into life time value, right? Because life time value measures how long customers last. You're going to have very high lifetime value. So I just look at the quality of your businesses at a pie-turn and load-turn and I'll be kind of intuitive to you. So one is like selling through a plan to share revenue every year's hard. If you have customers that are on repeat and growing with you, like some of the best tech companies, So let's think about data dog, snowflake, a lot of those companies, they're words, still are some extent like Wall Street garlings. Why? Because every year, their customers take more and more services from them. So they had dog doesn't have to do anything. They literally could fire their pretty much several sales force. And if their revenues were 100 bucks this year, it was like dropped to 98% of clients leave. And then go to 1113 because their remainder consumed 15% more. So that's phenomenal because it's just such easy growth. Let's talk about some better bad. So like meal kits, they lose like half their clients every single year they turn out. Let's look at Palatown. Now the you know COVID's done. A lot of people come into Palatown. They love it. They use it for a couple years and then they cancel. Maybe there's been the money and they quit working out. I mean, that's like a super standard gym model too in the real world, right? You sound for the jam. You use the per year to maybe forget about it and you're still paying to not using it. We're mostly going to be looking at tech companies and not retail tech because retail tech does that piechern. But enterprise software tech tends to have some of the lowest turnaround and that's why it's some of the best businesses around. Those are phenomenal businesses and when you're looking at them, try to find businesses that have those characters. And not leave. And that kind of brings us to the next point, which is we're looking for businesses that have really high barriers to entry, to make sure copycats can't just come in and mimic you and kill your business once you're established. this high-spooky cost, like you get locked in. There's a client that's really annoying to be locked in, but as a business, it's phenomenal. So think about like Google Cloud, right? Like you move everything on cloud, we're speaking to the Chibo this week at the conference. And they're probably going to use Google for AI. Google is basically going to be given in they told us a bunch of fine tuned foundational models off the palm to free and see Jim Shave questions on that. And we're like, oh, you know, I asked Max and he right away. Like why is Google just going to give you this stuff that I've been charging you? It's like the next I get the one to lock everybody in. Lock everyone in, make them use Google Cloud, make them use Google tools. And it's going to be very hard to switch off. And the other things you want to look for is like make the product addictive. Especially if it's in like the entertainment space or video games You want it as addictive as hell for the client for customer so they never leave in the key blind. I think that's evident product is taken off and that's a form of switching costs, right? Like if you think of how long else? Like people like designers maybe just like, pro designers off Sigma. They learn Sigma, they're like Sigma experts, they're not going to leave. Like that's why it don't be had to go to buy Figma. Figma, that's a dobe game plan, right? And Adobe was losing market share because Figma was so good. And all these people are like being trained on Figma. The best is when you see a company. And universities are offering classes and had to learn this. Just like that's phenomenal. The next generation is just getting indoctrinated in trains. How to do this? The universities are building up your software companies If you have a huge brand in your global, you can start with something like Apple's doing, but that's the biggest company in the world. But generally liquidity, two-sided liquidity marketplaces, like credit card systems are extremely hard to knock off. and that's why there's some of the best businesses where vision and master card have 60% margins. Other things that offer nice motes that can really protect you is patting is obviously like anything that's really patentable. Heart and knock off but not impossible patents are the best mode. Like I prefer two-sided liquidity systems of patterns any day. Same with any type of intellectual property, it's also not as scared as, you know, two-sided liquidity and some of the other things. And then Brande and Brande and CH2, right? We talked about Apple. Like there's nothing that overly unique. But as Andreas and I were talking about the start of the meeting, Apple did a great job building up two side of the quidities on the iPhone when it was released, right? Like all the apps. Yet they have the developers come and build on your platform, set supply. And you have to have tons of consumers have an iPhone which is demand. icon. I'm going to stick with iOS. It's like way better and that's the benefit of two-sided liquidity. And that's been a fit of Apple branding. And why maybe they'll have an impact in finance and ultimately like have more Apple cards not to take on master of Visa card, but you know, maybe they'll have a shot. shit now. Why? Because Apple has Microsoft gives away teams most enterprises, there are a lot of them, good? Like in my old company, we just we had Zoom, we had Slack, We just dropped all of it. And we just went all in on Microsoft, because it was way cheaper and pretty good. So we used teams for the zoom equivalent. We used teams for the Slack equivalent. And we used teams for the Dropbox equivalent. And all those stocks came under tremendous pressure. And they kept growing the revenues. But the stocks went nowhere or down because nobody wants to text them because people know Microsoft is lurking there or is there already started to chip in on their thing their business. But we'll just deal in the realm of reality and what You know, it was the logical for them to get into it was logical because Microsoft had teams for years They would eventually be doing this with teams. It was already around is already installed and everyone's windows computer to be a barrier to entry, but generally works against startups. Hyperscalers do work as he was like some of these companies get bought. Yeah, so that'll be my last thing, so I'll get to that one's their hand. So scale could be a barrier to entry, but works against most startups, not for them. So some companies like Amazon and on the internet, that's what they started off with. Same with Walmart when they started. They were just telling a lot of different items. They knew that to actually create a moe and prevent like me from opening up a bookstore online and competing against them was to get big fast. So they helped. They focused on getting as big as possible. They have as much scale as possible, and then they actually created a mode purely into that scale. Like if I wanted to compete against Amazon, they don't have how can I. They have like 90 planes, they own, they have like hundreds of DCs around the world. It just became extremely expensive. There's the reason they beat Barnes and Noble's, starting from nothing when Barnes and Noble's was the biggest book seller in the US, as a cheaper to buy the startup. So that ties into what David was saying like David, you are for the hyper-skillar to buy you. So let's look at like Figma and Adobe, right? Like a Dobebob, Figma for like a crazy number. And it's because of what I was saying earlier, like Figma did such a good job and got there. Quickly. And people were being trained on it that it was at the risk of starting to cut into Adobe's market. So you know, I'm not even sure if that deal will be approved by regulators. It might be you it should not, lock on their customers. So I real threat for the first time in years and they're like we're just going to overpaying by this to kill this threat and own it internally. Because there would be too Any questions on that? Yeah, I have a question. So how would you go about like take a figment as like the example right like if you the few who were starting to develop figment you might say okay, well last, it's probably the most important point. Investing started for such a public companies. But yeah, ecosystem and learning how to use it because we're going to focus on something really new. She that Adobe doesn't have anywhere on their roadmap and they're going to use that as the beach head to roll out to other products. Like anytime you're going up a well established data company, that's kind of the only way, right? Then you start super specialized and branch out after you have existing clients. You start adding more modules, more features. But yeah, Adobe probably couldn't have done that, but they probably were focused on like a hundred different things. Cool. So mastercard, they kind of invented the market genre, right? Like, is that not these? So, like, they kind of invented the card networks, right? It's like, MasterCard visa and American Express really, but American Express is in his widely covered masterCard is using during the world. Like, you can invent a space, which is what mastercarda visa basically did. They also had tons of travel with checks. So they already globaled the start with it. A big travel with checks business. They had relationships with banks around the world from that. And from that they transitioned it to this great part system, which is annoying for merchants, useful for consumers, but insanely profitable and opposite. Apple started with no developers users. Brandon branding is huge right like Apple was on the verge of death until Steve Jobs came back. I think it was like 97. in 1997, and Apple came out with those colorful Macs, which kind of looked off the deathbed and making money. And he kind of used that and crazy, crazy branding And that actually brings me to my last point, which Steve Jobs was the founders. It's even more important for startups, right? Like it's number one, two, three. The founders must be religious about their products and believe they're going to change the world against all odds because you have to be a little bit going to be crazy arrogant and wrong, but the ones who are crazy arrogant and right, like their good founders. So, if you just have money in the bank, it's not not to build a successful company. If you just have good tech, it's not up to build a successful company. Like how many times have we talked internally, there's something like really smart, academic who created something really often had no idea how to sell it, had no idea to raise the funds had no idea how to motivate people to come work for him and he just died on the vine and then like a year later someone who has some skills basically just took that idea and spanners to promote of it to build something they care about money but it's not all about money they would be doing this for free or at least have their product to have a huge impact on the world, and they truly believe that. Bounders need to be persuasive. They're going to be asking other people to make likes sacrifices, to make the boundaries dream come true, which is bringing this company to life. They're going to ask for long hours. They're going to have people, you know, to give it and just work on their vision, not not the employees vision. So they need to be persuasive. They're also going to need to be able to convince investors that this company is going to work in the future and deserves funding. That's what I mean. They need to be charismatic and then it's able to tell the story well. Or well, you know, it won't grow and will die on'll die on the line. They also need to understand who their customer is and what problem they're helping to solve. So that ties into the answer,'m solving and who am I going to help and what's the approach to do that? I don't expect founders to know every single point that I just mentioned or were in this presentation today, but they should have a general understanding of all these things. Like if we talk about, oh, you are going to compete against Adobe. What's your plan on that? Like that's question one, if I'm sitting down with the founders, they better have a good answer. And let's just talk about some of the super famous CEOs in the huge companies. But like Zuckerberg, he's like, all these guys are jealous. Like Zuckerberg, Steve Jobs, Elon Musk, Bill Gates, Jeff Bezos, Travis Planet, App like Uber. All these guys have all those characteristics and they're not bigger than their companies, but I promise to you at the same time they were building their companies. There was like 10 of the guys in the world who probably had the exact same idea as all of them. I mean a lot of them weren't even first, like Facebook obviously was like I don't know, maybe the 20th. So it's full network out there and yet it dominated. Because these guys are killers and they knew all this stuff. They could tell the story. They understood what their consumer was. They added tech in the money, but they needed all those other characteristics to actually make it work versus everyone else who fails. So that's it for my like my thing here. So I'm happy to you know have a more general discussion if anyone has questions or wants to talk with specific companies or what they're thinking. And they ever lucky, you need luck too. Yeah, that's basically life. Better be lucky than good. Yeah, you need all those things, but like you control what you can't control. So look, so when you go up there after today, match that I are going to be trying to find companies. We're going to take a lot of meetings. A lot of them are going to be bad. We're going to pass on them. Like that's just a numbers game. We're pretty much happy to sit down. And they're going to be good. And they're going to be good. And they're going to be good. And they're going to be good. And they're going to be good. And they're going to be good. And they're going to be good. And they're going to be good. And they're going to be good. And they're going to be good. And they're going to be good. And they're going to be good. And they're going to be good. And they're going to be good. And they're going to be good. And they're going to be good. And they're going to be good. And they're going to be good. And they're going to be good. And they're going to be good. And they're going to be good. And they're going to be good. And they're going to be good. And they're going to be good. And they're going to be good. And they're going to be good. And they're going to be good. And they're going to be good. And they're going to be good. And they're going to be good. And they're going to be good. And they're going to be good. And they're going to be good. And they're going to be good. And they're going to be good. And they're going to be good. And they're going to be good. And they're going to be good. And they're going to be good. And they're going to be good. A lot of them are gonna be bad, we're gonna pass on them, like that's the number's game. of what we're looking for and what kids work. And now you have more of a critical eye. he's saying these things in your head, man this isn't good work because of you know there's no time or there's um, you know like Amazon's gonna roll these guys over it like two days're going after Big Market, it makes perfect sense to solve any huge pain point and like this guy and can tell it's story for this girl, can tell it's story like that's what we want. So yeah, that's it guys. Hopefully that was like kind of different and interesting. Thanks, Jordan. Cool. Alright, I'll see you guys later. Thanks Jordan. Cool. All right. See you guys later.\""
      ]
     },
     "execution_count": 121,
     "metadata": {},
     "output_type": "execute_result"
    }
   ],
   "source": [
    "selective_transcribed_content"
   ]
  },
  {
   "cell_type": "markdown",
   "id": "a20896b4",
   "metadata": {},
   "source": [
    "## Selective topic summarization"
   ]
  },
  {
   "cell_type": "markdown",
   "id": "6f8ab415",
   "metadata": {},
   "source": [
    "We can use this selective content to now summarize using the already available pipeline !"
   ]
  },
  {
   "cell_type": "markdown",
   "id": "06f009d5",
   "metadata": {},
   "source": [
    "# And Much More !!"
   ]
  }
 ],
 "metadata": {
  "kernelspec": {
   "display_name": "Python 3",
   "language": "python",
   "name": "python3"
  },
  "language_info": {
   "codemirror_mode": {
    "name": "ipython",
    "version": 3
   },
   "file_extension": ".py",
   "mimetype": "text/x-python",
   "name": "python",
   "nbconvert_exporter": "python",
   "pygments_lexer": "ipython3",
   "version": "3.8.8"
  }
 },
 "nbformat": 4,
 "nbformat_minor": 5
}

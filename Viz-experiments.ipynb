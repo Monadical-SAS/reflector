{
 "cells": [
  {
   "cell_type": "markdown",
   "id": "a5ace857",
   "metadata": {},
   "source": [
    "# Visualization Experiments"
   ]
  },
  {
   "cell_type": "markdown",
   "id": "9bfc569d",
   "metadata": {},
   "source": [
    "Lets load the data artefacts to local memory. These files are to be downloaded from S3 as the pipeline automatically uploads them to the pre-configured S3 bucket."
   ]
  },
  {
   "cell_type": "code",
   "execution_count": 24,
   "id": "edc584b2",
   "metadata": {},
   "outputs": [
    {
     "name": "stderr",
     "output_type": "stream",
     "text": [
      "\u001b[32m2023-06-14 23:48:05.490\u001b[0m | \u001b[1mINFO    \u001b[0m | \u001b[36mfile_util\u001b[0m:\u001b[36mdownload_files\u001b[0m:\u001b[36m36\u001b[0m - \u001b[1mDownloading file df.pkl\u001b[0m\n",
      "\u001b[32m2023-06-14 23:48:07.270\u001b[0m | \u001b[1mINFO    \u001b[0m | \u001b[36mfile_util\u001b[0m:\u001b[36mdownload_files\u001b[0m:\u001b[36m36\u001b[0m - \u001b[1mDownloading file mappings.pkl\u001b[0m\n",
      "\u001b[32m2023-06-14 23:48:07.756\u001b[0m | \u001b[1mINFO    \u001b[0m | \u001b[36mfile_util\u001b[0m:\u001b[36mdownload_files\u001b[0m:\u001b[36m36\u001b[0m - \u001b[1mDownloading file transcript_timestamps.txt\u001b[0m\n"
     ]
    }
   ],
   "source": [
    "from file_util import download_files\n",
    "import pickle\n",
    "\n",
    "# Download files from S3 bucket. You can download multiple files at a time by passing a list of names\n",
    "files_to_download = [\"df.pkl\", \"mappings.pkl\", 'transcript_timestamps.txt']\n",
    "download_files(files_to_download)"
   ]
  },
  {
   "cell_type": "code",
   "execution_count": null,
   "id": "5027fe25",
   "metadata": {},
   "outputs": [],
   "source": [
    "# Download spacy model for the first time\n",
    "!spacy download en_core_web_md\n"
   ]
  },
  {
   "cell_type": "code",
   "execution_count": 25,
   "id": "a1fc2846",
   "metadata": {},
   "outputs": [],
   "source": [
    "import spacy\n",
    "\n",
    "spaCy_model = \"en_core_web_md\"\n",
    "nlp = spacy.load(spaCy_model)\n",
    "stopwords = nlp.Defaults.stop_words\n"
   ]
  },
  {
   "cell_type": "markdown",
   "id": "8abc435d",
   "metadata": {},
   "source": [
    "## Example template 1"
   ]
  },
  {
   "cell_type": "markdown",
   "id": "2b1a4834",
   "metadata": {},
   "source": [
    "## Scatter plot of transcription with Topic modelling"
   ]
  },
  {
   "cell_type": "markdown",
   "id": "a795137e",
   "metadata": {},
   "source": [
    "Change the values of \"category\", \"category_name\" to one agenda topic and change the value of \"not_category_name\" and see different plots."
   ]
  },
  {
   "cell_type": "code",
   "execution_count": 27,
   "id": "43e01074",
   "metadata": {},
   "outputs": [],
   "source": [
    "import pandas as pd\n",
    "import scattertext as st\n",
    "\n",
    "df = pd.read_pickle(\"df.pkl\")\n",
    "\n",
    "def plot_topic_modelling_and_word_to_sentence_search(df, cat_1, cat_1_name, cat_2_name):\n",
    "    df = df.assign(parse=lambda df: df.text.apply(st.whitespace_nlp_with_sentences))\n",
    "\n",
    "    corpus = st.CorpusFromParsedDocuments(\n",
    "        df, category_col='ts_to_topic_mapping_top_1', parsed_col='parse'\n",
    "    ).build().get_unigram_corpus().remove_terms(stopwords, ignore_absences=True).compact(st.AssociationCompactor(2000))\n",
    "    \n",
    "    html = st.produce_scattertext_explorer(\n",
    "        corpus,\n",
    "        category=cat_1, category_name=cat_1_name, not_category_name=cat_2_name,\n",
    "        minimum_term_frequency=0, pmi_threshold_coefficient=0,\n",
    "        width_in_pixels=1000,\n",
    "        transform=st.Scalers.dense_rank\n",
    "    )\n",
    "    open('./demo_compact.html', 'w').write(html)\n",
    "\n",
    "plot_topic_modelling_and_word_to_sentence_search(df,\n",
    "                                                cat_1=\"Workforce\",\n",
    "                                                cat_1_name=\"Workforce\",\n",
    "                                                cat_2_name=\"Enablement\")\n",
    "\n",
    "# once you are done, check the generated HTML file\n"
   ]
  },
  {
   "cell_type": "markdown",
   "id": "e9994c87",
   "metadata": {},
   "source": [
    "## Example template 2"
   ]
  },
  {
   "cell_type": "markdown",
   "id": "35c4f7fd",
   "metadata": {},
   "source": [
    "## Time driven Insights"
   ]
  },
  {
   "cell_type": "code",
   "execution_count": 34,
   "id": "7cdcd66f",
   "metadata": {},
   "outputs": [],
   "source": [
    "mappings = pickle.load(open(\"mappings.pkl\", \"rb\"))\n",
    "timestamp_to_topic_first_match = mappings[0]\n",
    "timestamp_to_topic_second_match = mappings[1]\n",
    "topic_to_timestamp_first_match = mappings[2]\n",
    "topic_to_timestamp_second_match = mappings[3]"
   ]
  },
  {
   "cell_type": "code",
   "execution_count": 35,
   "id": "11221022",
   "metadata": {},
   "outputs": [
    {
     "data": {
      "image/png": "[encoded data removed]",
      "text/plain": [
       "<Figure size 720x576 with 1 Axes>"
      ]
     },
     "metadata": {
      "needs_background": "light"
     },
     "output_type": "display_data"
    },
    {
     "data": {
      "image/png": "[encoded data removed]",
      "text/plain": [
       "<Figure size 720x576 with 1 Axes>"
      ]
     },
     "metadata": {
      "needs_background": "light"
     },
     "output_type": "display_data"
    }
   ],
   "source": [
    "import collections \n",
    "import seaborn as sns\n",
    "import matplotlib.pyplot as plt\n",
    "\n",
    "def plot_time_spent_for_topic(mapping, order):\n",
    "    topic_times = collections.defaultdict(int)\n",
    "    for key in mapping.keys():\n",
    "        if key[1] is None or key[0] is None:\n",
    "            continue\n",
    "        duration = key[1] - key[0]\n",
    "        topic_times[mapping[key]] += duration\n",
    "    \n",
    "    keys = list(topic_times.keys())\n",
    "    vals = [int(topic_times[k]) for k in keys]    \n",
    "    plt.figure(figsize=(10,8))\n",
    "    sns.barplot(x=vals, y=keys).set(title='Time spent on ' + order +  ' matched topic')\n",
    "\n",
    "        \n",
    "\n",
    "plot_time_spent_for_topic(timestamp_to_topic_first_match, \"first\")\n",
    "plot_time_spent_for_topic(timestamp_to_topic_second_match, \"second\")"
   ]
  },
  {
   "cell_type": "markdown",
   "id": "e9ae6e25",
   "metadata": {},
   "source": [
    "## Example template 3"
   ]
  },
  {
   "cell_type": "markdown",
   "id": "69be38ce",
   "metadata": {},
   "source": [
    "## Enhanced search for timelines"
   ]
  },
  {
   "cell_type": "markdown",
   "id": "f8a47348",
   "metadata": {},
   "source": [
    "We can already search for a particular word in the interactive HTML document from example 1 to see a list of all transcribed sentences having an occurence of the word (in the context of the chosen topic). \n",
    "\n",
    "We can also retrieve all the segments(timestamps)in the transcription, related to a particular topic, to\n",
    "\n",
    "i) Segregrate all content on a particular topic of importance.\n",
    "\n",
    "ii) Perform selective summarization of the segregated content to make productive follow-ups. (Maybe use a model to extract action items and announcements from the transcription or selective summary ? )\n",
    "\n",
    "iii) Use the timestamps to highlight video / audio / transcription segments.\n",
    "\n",
    "iv) Jump to a desired segment of video / audio / transcription."
   ]
  },
  {
   "cell_type": "code",
   "execution_count": 37,
   "id": "69d814c9",
   "metadata": {},
   "outputs": [
    {
     "name": "stdout",
     "output_type": "stream",
     "text": [
      "Timelines where Enablement was covered : \n"
     ]
    },
    {
     "data": {
      "text/plain": [
       "[(0.0, 2.0),\n",
       " (4.0, 8.0),\n",
       " (8.0, 15.0),\n",
       " (15.0, 18.0),\n",
       " (18.0, 22.0),\n",
       " (22.0, 28.88),\n",
       " (28.88, 34.08),\n",
       " (34.08, 40.56),\n",
       " (40.56, 115.0),\n",
       " (115.0, 148.08),\n",
       " (148.08, 156.56),\n",
       " (156.56, 168.0),\n",
       " (168.0, 176.0),\n",
       " (176.0, 182.0),\n",
       " (182.0, 260.0),\n",
       " (288.0, 311.0),\n",
       " (311.0, 406.0),\n",
       " (406.0, 412.56),\n",
       " (412.56, 418.08),\n",
       " (426.12, 432.56),\n",
       " (432.56, 476.0),\n",
       " (526.8, 529.6),\n",
       " (530.52, 532.0),\n",
       " (532.0, 533.72),\n",
       " (533.72, 534.76),\n",
       " (534.76, 536.56),\n",
       " (536.56, 538.8),\n",
       " (548.0, 550.0),\n",
       " (550.0, 551.0),\n",
       " (551.0, 554.0),\n",
       " (554.0, 555.0),\n",
       " (563.0, 629.2),\n",
       " (629.2, 633.04),\n",
       " (634.08, 638.4),\n",
       " (638.4, 641.76),\n",
       " (643.04, 706.76),\n",
       " (706.76, 711.66),\n",
       " (767.24, 768.84),\n",
       " (768.84, 772.24),\n",
       " (801.0, 808.0),\n",
       " (809.0, 812.0),\n",
       " (874.24, 879.84),\n",
       " (879.84, 914.0),\n",
       " (927.52, 934.68),\n",
       " (941.56, 966.44),\n",
       " (966.44, 968.64),\n",
       " (968.64, 970.96),\n",
       " (970.96, 974.48),\n",
       " (974.48, 977.8),\n",
       " (977.8, 980.88),\n",
       " (980.88, 984.44),\n",
       " (984.44, 1049.0),\n",
       " (1049.0, 1061.0),\n",
       " (1061.0, 1072.0),\n",
       " (1072.0, 1079.0),\n",
       " (1079.0, 1107.0),\n",
       " (1107.0, 1113.0),\n",
       " (1113.0, 1119.0),\n",
       " (1119.0, 1121.0),\n",
       " (1121.0, 1122.0),\n",
       " (1125.6, 1130.96),\n",
       " (1130.96, 1136.96),\n",
       " (1136.96, 1142.4),\n",
       " (1142.4, 1207.0),\n",
       " (1220.0, 1230.0),\n",
       " (1230.0, 1238.0),\n",
       " (1238.0, 1266.6),\n",
       " (1271.6, 1278.8),\n",
       " (1278.8, 1285.6),\n",
       " (1287.4, 1290.72),\n",
       " (1296.56, 1298.32),\n",
       " (1298.32, 1299.8),\n",
       " (1299.8, 1301.04),\n",
       " (1301.04, 1304.64),\n",
       " (1304.64, 1361.0),\n",
       " (1385.0, 1527.6),\n",
       " (1527.6, 1535.04),\n",
       " (1535.04, 1541.28),\n",
       " (1541.28, 1567.04),\n",
       " (1567.04, 1572.08),\n",
       " (1572.08, 1578.24),\n",
       " (1578.24, 1614.0),\n",
       " (1635.0, 1647.6),\n",
       " (1647.6, 1653.28),\n",
       " (1653.28, 1659.2),\n",
       " (1659.2, 1675.0),\n",
       " (1729.28, 1735.6),\n",
       " (1736.16, 1742.48),\n",
       " (1742.8, 1768.4),\n",
       " (1769.56, 1773.0),\n",
       " (1773.0, 1776.96),\n",
       " (1776.96, 1780.76),\n",
       " (1787.84, 1794.08),\n",
       " (1794.08, 1800.72),\n",
       " (1800.72, 1810.0),\n",
       " (1818.0, 1970.88),\n",
       " (1970.88, 1975.04),\n",
       " (1975.04, 1979.6),\n",
       " (1979.6, 1984.8),\n",
       " (1984.8, None)]"
      ]
     },
     "execution_count": 37,
     "metadata": {},
     "output_type": "execute_result"
    }
   ],
   "source": [
    "def retrieve_time_segments(topic):\n",
    "    return topic_to_timestamp_first_match[topic]\n",
    "\n",
    "search_topic = \"Enablement\"\n",
    "print(\"Timelines where \" + search_topic + \" was covered : \")\n",
    "time_segments_of_interest = retrieve_time_segments(topic=search_topic)\n",
    "time_segments_of_interest"
   ]
  },
  {
   "cell_type": "markdown",
   "id": "b587da79",
   "metadata": {},
   "source": [
    "## Selective segregation of content"
   ]
  },
  {
   "cell_type": "code",
   "execution_count": 38,
   "id": "5dc2014f",
   "metadata": {},
   "outputs": [],
   "source": [
    "import json\n",
    "import ast\n",
    "\n",
    "time_segments_of_interest = retrieve_time_segments(\"Enablement\")\n",
    "\n",
    "ts_transcript = {}\n",
    "with open(\"transcript_timestamps.txt\", \"r\") as f:\n",
    "    ts_transcript = f.read()\n",
    "ts_transcript = ast.literal_eval(ts_transcript)\n",
    "\n",
    "selective_transcribed_content = \"\"\n",
    "for chunk in ts_transcript[\"chunks\"]:\n",
    "    if chunk[\"timestamp\"] in time_segments_of_interest:\n",
    "        selective_transcribed_content += chunk[\"text\"]"
   ]
  },
  {
   "cell_type": "code",
   "execution_count": 39,
   "id": "caeff7f1",
   "metadata": {},
   "outputs": [
    {
     "data": {
      "text/plain": [
       "\" So everything's going well so far. I'm going to join us. This is where you keep this low key. Very casual. Absolutely. All right. Well, thank you all for being here. We're very honored that you came to join us for this conversation. We are going to spend a little bit of time. I know it was written up, right? But thinking about how you actually grow and retain your employees, we know that there's a war on talent, especially in the cyberspace right now, right? Everybody's trying to get everybody in the door. Type lines are a little bit dry, a little bit hard to find. It's a tricky scenario. What we want to do if you allow us for this session is to almost park that call to the site. We're just going to spend just leaving for the moment. We're just going to put that aside. And instead, what we're going to focus on, or the employees that you actually have on board, already. We know that the hiring piece is complex. It requires dollars and HR and a whole bunch of stuff. That's that. We're going to focus on the rest, which is your workforce today. How do you grow them? How do you retain them? And in doing so, you actually find the bill become more effective and efficient and committed to your organization. So that then they'll go ahead and become more effective and committed to your organization. So that then they'll go ahead and become more effective and committed to your organization. So that then they'll go ahead and become more effective and committed to your organization. So that then they'll go ahead and become more effective and committed to your organization. So that then they'll go ahead and become more effective and committed to your organization. So that then they'll go ahead and become more effective and committed to your organization. So that then they'll go ahead and become more effective and committed to your organization. So that then they'll go ahead and become more effective and committed to your organization. So that then they'll go ahead and become more effective and committed to your organization. So that then they'll go ahead and become more effective and committed to your organization. So that then they'll go ahead and become more effective and committed to your organization. So that then they'll go ahead and become more effective and committed to your organization. So that then they'll go ahead and become more effective and committed to your organization. So that then they'll go ahead and become more effective and committed to your organization. So that then they'll go ahead and become more effective and committed to your organization. So that then they'll go ahead and become more effective and committed to your organization. So that then they'll go ahead and become more effective and committed to your organization. So that then they'll go ahead and become more effective and committed to your organization. So that then they'll go ahead and become more effective and committed to your organization. So that then they'll go the bell become more effective and efficient and committed to your organization. So then they'll go ahead and become random ambassadors for youis. I am a senior manager in the WIC capital practice. I'm focus on organizational transformation. What does that mean? That's where we quite all of our organizational design work. So how offices are aligned on the work chart and how information and decisions flow. In addition, it's where we hold our culture and our communications work. I've spent my career at Lloyd and beyond previously focused on culture and communications and employee and workforce programs and how you encourage the engagement and employee experience is the best thing to do. I've done that in a couple of clients' faces including the Federal Space, State Space, Global Space, including with some cyber agencies as well. But that'll answer my question. Thanks, Seize. You're going to have to be in the everyone. I'm part of the task. And I'm also a senior manager, absolutely. And I lead work for six periods for the government and public services practice at our firm. I want to forefront of workforce experience issues. For commercial cities, state, and federal clients focusing on training, attracting talent, recruiting, retention, and really today what we want to do is share some best practices, tools, what we've seen from other clients and help you. you some ideas about how to become an employer and choice, and how to retain the attract, high-performing cyber-talented. So, a little divergent? Before we do, I just want to give one caveat. Because it's day two of the conference now that the feedback cyber-fert, a while. I would say Mar and I both want to copy up the neater of us, or going to be cyber experts, especially in the room of this caliber. Yeah, right? We do this with cyraclients, but we also use with other clients. And so our invitation to you is to take what we're going to share here and think about how that applies to your day-to-day organization. So we kind of did this a little bit to stretch that thinking outside of just this formal cyber realm and bring you some ideas of what we're seeing from outside. That works. Okay. Great. So, actually, we define work for six periods, holistically, as there's some of our workers lived experience at work and how they feel about their organization. And so, really, this is shaped by eight key dimensions that impact worker experience overall. So we'll start by walking through each of these. So really this framework is backed by research as well as testing solutions with both our commercial as well as our government clients and we start with the people I work with. And this is really support and recognition for managers and you know who you interact with day to day. That's all in the side. It has one of the top five factors or talent retention. for the technology that I use. So that's very much about frustration, free technology. So are you having to do work around? So you're having to call IT or spend a lot of your day trying to figure out how to actually use this technology to do your job. And are there ways to use technology to improve collaboration, coordination and communication in a way that you're able to do your work more efficiently. The next little focus on is the places I do work, which is really focusing on the flexibility of the physical workspace and how that improves employee productivity, increases job satisfaction, and lowers overall workplace stress. Another one that we focus on is a sensible longing and or theness. That an organization creates. So that's very much about increasing your job performance. I think we've cited that it can lead to a 56% increase in job performance and a 50% reduction in turnover risk. And the work I do. I think this is particularly important to cyber employees where a lot of government employees are driven by the mission of the work that they're doing. And so connecting work to meaningful experiences and reiterating that's fulfilling and contributes to something bigger themselves is a great way to motivate and keep employees, that increases workers satisfaction. And then another one is really focusing on the mission. So identifying, you know, the organizations purpose and connecting it to their own personal values, as well as the mission of the organization. And finally, education. So this is really about higher form of organizations. And the fact that we have a lot of opportunities, we have a lot of opportunities to do that. And we have a lot of opportunities to do that. And we have a lot of opportunities to do that. And we have a lot of opportunities to do that. And we have a lot of opportunities to do that. And we have a lot of opportunities to do that. And we have a lot of opportunities to do that. And we have a lot of opportunities to do that. And we have a lot of opportunities to do that. And we have a lot of opportunities to do that. And we have a lot of opportunities to do that. And we have a lot of opportunities to do that. And we have a lot of opportunities to do that. And we have a lot of opportunities to do that. And we have a lot of opportunities to do that. And we have a lot of opportunities to do that. And we have a lot of opportunities to do that. And we have a lot of opportunities to do that. And we have a lot of opportunities to do that. And we have a lot of opportunities to do that. And we have a lot of opportunities to do that. And we have a lot of opportunities to do that. And we have a lot of opportunities to do that. And we have a lot of opportunities to do that. And we have a lot of opportunities to do that. And we have a lot of opportunities to do that. And we have a lot of opportunities to do that. And we have a lot of opportunities to do that. And we have a lot of opportunities to do that. And we have a lot of opportunities to do that. And we have a lot of opportunities to do that. And we have a lot the mission of the organization. And finally, education. So this is really about high-performing organizations and the fact that 30 times, 37 times more likely, workers are going to be able to achieve their local roles and stay within organization if they have the proper training and support and experiences to help them get there. So really when thinking about workforce experience, organizations, you know, often are sure where to start or what elements impact their employees. So this framework is really what we use as a starting point to help contributors that we've seen in our experience to employees really engage and motivated, which has directly contributed to retaining a attracting talent. So with that we are going to move on to the next slide. So just our off cybersecurity employees we know are experiencing disruption unlike ever before. And so just to a great day's discussion, we first went to start by walking through how one agency has approached the issue and used work force experience to address it. So a large federal agency of the Agile Cyber Security Priorities had long-suning workforce issues, you know, lots of attrition, tough time attracting the right talent for the roles that they needed. Probably a little bit about what you all are seeing. So there are a couple of stats up on this slide. I don't think they're going to surprise anybody, but I just want to call them out, because I think they're an important framing for what we are seeing in this library industry, Can you see it? No, I don't know. Okay, I'll go through a learn after reading for you. Yeah. And they were asking questions about the general cybersecurity environment, but in addition, some things came out around the workforce. So when those CISO's were asked about how they can support emerging threats and what their biggest challenges, number one, they said legacy infrastructure and solutions, number two, they said workforce. The number two thing, holding these state CISO's back from responding to the threats that are coming is the workforce. That's a pretty big issue. And the number two thing, the number two thing, the number two thing, holding these state CISO's back from responding to the threats that are coming is the workforce. That's a pretty big issue. And the number two thing, the number two thing, the number two thing, the number two thing, the number two thing, the number two thing, the number two thing, the number two thing, the number two thing, the number two thing, the number two thing, the number two thing, the number two thing, the number two thing, the number two thing, the number two thing, the number two thing, the number two thing, the number two thing, the number two thing, the number two thing, the number two thing, the number two thing, the number two thing, the number two thing, the number two thing, the number two thing, the number two thing, the number two thing, the number two thing, the number two thing, the number two thing, the number two thing, the number two thing, the number two thing, the number two thing, the number two thing, the number two thing, the number two thing, the number two thing, the number two thing, the number two thing, the number two thing, the number two thing, the number two thing, the number two thing, the number two thing, the number two thing, the number two thing, the number two thing, the number two thing, the number two thing, the number two thing, the number two thing, the number two thing, the number two thing, the number two thing, holding these state-sea-sodes back from responding to the threats that are coming, is the workforce. That's a pretty big issue. In addition, 62% out-to-thirds reported that their staff have a gap in competencies. Don't have the skills to do the job. Another pretty big issue when you step back and look at it. When we talk about the belonging piece that Mara just talked about and shared, 23% with the respondents didn't know if their organization has established DEI leadership positions. So is there someone in the organization really focused on that inclusion piece and bringing all of your workforce along? And only 25% reported offering remote work options, which I know is tricky in the cyberspace. When you think about the sock and everything else, but it is there are ways to do it with at least parts of the workforce. And we know that that's the same thing. And we know that that's the same thing. And we know that that's the same thing. And we know that that's the same thing. And we know that that's the same thing. And we know that that's the same thing. And we know that that's the same thing. And we know that that's the same thing. And we know that that's the same thing. And we know that that's the same thing. And we know that that's the same thing. And we know that that's the same thing. And we know that that's the same thing. And we know that that's the same thing. And we know that that's the same thing. And we know that that's the same thing. And we know that that's the same thing. And we know that that's the same thing. And we know that that's the same thing. And we know that that's the same thing. And we know that that's the same thing. And we know that that's the same thing. And we know that that's the same thing. And we know that that's the same thing. And we know that that's the same thing. And we know that that's the same thing. And we know that that's the same thing. And we know that that's the same thing. And we know that that's the same thing. And we know that that's the same thing. And we know that that's the same thing. And we know that that's the same thing. And we know that that's the same thing. And I know is tricky in the cyberspace. When you think about the sock and everything else, but it is there are ways to do it with at least parts of the workforce. And we know that that's super important to the millennials and slunder-reppers any groups. Remote work has certainly been a topic since the pandemic, right? I see people nodding. It's just on everybody's tongue, it's front of mind. So how do you make that work? You know, addition to all of this, I think what's really important to know, right? Is that cyber threats have not produced in any way? So there's one stat that says that as a result of COVID-19, it's been linked to a 238% increase in cyber crime. So the numbers are going up the need continues and the resourcing and the workforce, maybe as a little bit lagging behind. In addition to this in a cyberspace, we're also seeing some pretty big macro trends in workforce space in general that are contributing to some of the challenges going on today. And these also probably won't surprise you. Number one, exhaustion. So this is where that burnout topic that some of you people are talking about is showing up. And in cyber agencies, we have frontline workers, right? There's a 24-7 operation. And so you're going to have this burnout challenge unfortunately. This is also contributed by working from home in some ways and that blurring of that work life home life when it ended the day happens if it happens and whose days on their laptop all night working. In addition, between 2021 and 2022, the number of meetings we all experience increased 280 percent. So you're getting your Zoom fatigue, your Teams fatigue, right? Does that Why does all this matter? Because we know that losing employees is costly. So if you can get it right on the front end and really have that workforce experience be positive and keep your people it's going to pay off dividends in the actual. I'm going to pass it back to Mara who's going to tie this back to that model for us. that improves the business and talent outcomes. And so, it's investing in work more experience is a single best way that organizations can minimize workforce disruption in the short term. I'm going to get ahead of future work. How do we do that? And so in this next section we're going to focus on how cyber employers can win at workforce experience. So based on a 2022 state CIO, mass CO study that included 51 participants, it was identified that the following areas were some of the top priorities around how to improve workforce experience. work options as particularly important 8% focus on flexible work schedules and how work affects their life 35% focus on how I grow as a human so focusing on sure that the workforce is able to meet the needs of the modern IT to man's. And so with this, Suzy is going to walk us through a deeper dive of the different options on how to address these results with this actually might look like in practice. Great. Thank you, Mara. So again, just to take it from the top, right? You know that the talent pipeline is tough. We know that we're recruiting processes challenging. I think a little deeper into some of these things. We're going to walk through a couple of activities, programs, initiatives, ideas, just to hopefully give you something to walk away with today that you can take back to your organization and implement. And the idea behind these is you can implement them tomorrow. You don't need to get into an IT backlog of some system build. You don't need to go to HR and say, I need, you know, millions of dollars to hire people and fill the gaps. These are things that you can do with your current workforce in place today to improve that workforce experience. So, starting with how I grow with a human and again 35% of the CIOs said that this was one of the most important things. A couple of ideas here for things that can be done and things that we've seen these accessible elsewhere. Number one, integrating training into the day-to-day. This is not about sending it employee off to go take a training, get a certification, step out of the workplace, and come back. We know that most adult learners prefer experiential learning. And so the way to do that is a apprenticeship, mentorship, shadowing, rotational programs, lunch and learns, informal training opportunities, action, after action reports where you can also around and talk about what did we do well, what didn't we do, what are we going to do differently. And some of this also is just documenting what it is you do. So setting up some of those SOPs so that you can pass those over to somebody and say, well this is the best way to do it. Here's a lesson's learned. Identifying opportunities for employees to use their strengths daily. When we talk about strengths, we don't just mean what am I good at. What we mean by strengths is what gives me individually energy. What energizes me? What excites me? And so I may be very good at data analytics, but that doesn't mean that that's my passion. I may actually prefer competing teams or communications or something like that. And so checking in with your teams about what is it that they each person enjoys most and trying to align them to that work. Studies have shown that if you align people to their strengths, again, the things that energize them, they will actually outperform, and do way better than if you give them a challenge task or activity that then they have to sort of overcome and be able to accomplish. We are good when we're playing to our strengths. So it doesn't mean that in a play you can only do their strength all day and be happy, but try to find ways for them to incorporate their strengths into the day to day as much as possible. And then another thing that tends to be useful is stepping back and building looking at career pathways. So how are you going to grow people from level to level, from ability to ability? Is anybody here familiar with the nice framework? Come on, Nick. if you haven't seen an highly recommend going onto the website. They have work titles, they have job descriptions, they have competencies, they have skills, knowledge, experiences, and you can stack roles so you can say, okay, if I'm an IT leadership management position today, and I want to become a data analyst, and they will help you kind of, they map that path a little bit for you with the overlap between those two roles for example and then some of the case this knowledge skills and abilities to go get from one to the other. So a very very useful tool used by a lot of cyber agencies and organizations highly highly highly highly recommend using it or at least checking an out and seeing if there's anything useful for you there. But really looking at where are my people going and how to like grow them because we know also that one of the most important things that we have to do is to make sure that we have a lot of information about the data that we have to do with the data and that we have to do with the data that we have to do with the data that we have to do with the data that we have to do with the data that we have to do with the data that we have to do with the data that we have to do with the data that we have to do with the data that we have to do with the data that we have to do with the data that we have to do with the data that we have to do with the data that we have to do with the data that we have to do with the data that're doing it. And we know that we're doing it. And we know that we're doing it. And we know that we're doing it. And we know that we're doing it. And we know that we're doing it. And we know that we're doing it. And we know that we're doing it. And we know that we're doing it. And we know that we're doing it. And we know that we're doing it. And we know that we're doing it. And we know that we're doing it. And we know that we're doing it. And we know that we're doing it. And we know that we're doing it. And we know that we're doing it. And we know that we're doing it. And we know that we're doing it. And we know that we're doing it. And we know that we're doing it. And we know that we're doing it. And we know that we're doing it. And we know that we're doing it. And we know that we're doing it. And we know that we're doing it. And we know that we're doing it. And we know that we're doing it environment. I know the sock is what it is. We know that piece. But there are conversations still to be having around work location. What we have found is most successful is when organizations really focus in on work location. In alignment to your desires, your goals, your strategy. There are some things that working remote are great for. running into somebody, you know, by the water cooler and finding out that we're doing similar things, and we can train notess actually Mara and I just did that and I said oh send me that if you could because I want to see that right? So designing intentionally for what work can be done in person, what work can be done remotely, maybe it's part and part. Maybe there's a single initiative or project where you can send people to go home and work remotely and then come back and they're still feeling like they're getting a taste of that opportunity as they're normally meeting to be on site. So really being smart and intentional and purposeful about how you design that. Looking at the digital communications and information sharing. So a lot of us have moved on to teams and Slack and Zoom and these digital tools. Are you really using them for their maximum capability to support your organization? Is there license to and bringing that goodness to your organization to help your people work even better? And then the third one there is forced to connectivity and networking especially in a hybrid or remote environment. We know that happiness at work and elsewhere So how are you forcing some of that social connection? and saying, hey, how is everybody's weekend? Or what are you doing this weekend? Or tell me something funny? Or if you were going to be a office supply, what would you be? Whatever it may be, right? But finding a way to sort of force a little door opening and having people build that connection. And then the well being piece. And so I shared with you about the exhaustion, you know, and the burnout rates and all that earlier. A lot of organizations, especially since during and since the pandemic, have stood up well being activities. They're not necessarily aligned to a situation where they're not going to be able to do that. And so I'm going to be able to do that. And I'm going to be able to do that. And I'm going to be able to do that. And I'm going to be able to do that. And I'm going to be able to do that. And I'm going to be able to do that. And I'm going to be able to do that. And I'm going to be able to do that. And I'm going to be able to do that. And I'm going to do that. And I'm going to be able to do that. And I'm going to do that. And I'm going to do that. And I'm going to do that. And then remember that it has a lot of opportunities to do that. And then remember that it has a lot of opportunities to do that. And then remember that it has a lot of opportunities to do that. And then remember that it has a lot of opportunities to do that. And then remember that it has a lot of opportunities to do that. And then remember that it has a lot of opportunities to do that. And then remember that it has a lot of opportunities to do that. And then remember that it has a lot of opportunities to do that. And then remember that it has a lot of opportunities to do that. And then remember that it has a lot of opportunities to do that. And then remember that it has a lot of opportunities to do that. And then remember that it has a lot of opportunities to do that. And then remember that it has a lot of opportunities to do that. And then remember that it has a lot of opportunities to do that. And then remember that it has a lot of opportunities to do that. And then remember that it has a lot of opportunities to do that. And then remember that it has a lot of opportunities to do that. And then remember that it has a lot of opportunities to do that. And then remember that. So it's not just sort of a scatter plot of activities, but there's sort of intentional and organized aligning back to those goals that you have. And then, remember that impact of that and adjust as needed. And if you're engaging your workforce correctly, then you'll have lots of data points about what's working and what's not in order to make those adjustments. make those adjustments. Started on this a little bit, but again, thinking creatively, not just about remote work, but how shift work is scheduled. So a lot of the conversation around workforce and economic development is around people who may be to be taking their child care duties at home while still trying to get into the workforce. What is it that you can do to maybe look at four hour shifts or six hour shifts different than your typical shifts to bring in more people in diversity, and also alleviate some of the burnout and pressure that's happening for the workforce in place today. There are a bunch of apps that focus on this. A lot of them are focusing in the health care space of the transportation frontline workers space, but they could easily be leveraged over into the cyberspace as well. And then the third one here conducting a culture assessment. A lot of organizations assume that culture sort of just happens and it doesn't. It's important to be intentional about culture and what do we mean when we talk about culture, right? Because we all sort of live in it all the time, but what is that? When we talk about culture, what we talk about are the intangibles, your beliefs and your values as an organization. Are we more individually individualistic, the ability to talk about culture, what we talk about, what we talk about, what we talk about, what we talk about, what we talk about, what we talk about, what we talk about, what we talk about, what we talk about, what we talk about, what we talk about, what we talk about, what we talk about, what we talk about, what we talk about, what we talk about, what we talk about, what we talk about, what we talk about, what we talk about, what we talk about, what we talk about, what we talk about, what we talk about, what we talk about, what we talk about, what we talk about, what we talk about, what we talk about, what we talk about, what we talk about, what we talk about, what we talk about, what we talk about, what we talk about, what we talk about, what we talk about, what we talk about, what we talk about, what we talk about, what we talk about, what we talk about, what we talk about, what we talk about, what we talk about, what we talk about, what we talk about, what we talk about, what we talk about, what we talk about, what we talk about, what we talk about, what we talk about, what we talk about, what we talk about, what we talk about, what we talk about, what we talk about, what we talk about, what we talk about, what we talk about, what we talk about, what we talk about culture, what we talk about are the intangibles, your beliefs and your values as an organization. Are we more individually individualistic, focused or are we more collaborative? Are we more risk of first? Or are we more innovative and risk takers? Are we more internally focused or do we have external customers that we've really organized around? And so when you do a cultural assessment, you look at where you are today versus where you want your organization to be and what are the steps to get from a to the other. And so when you do a cultural assessment, you look at where you are today versus where you want your organization to be and what are the steps to get from a to the other. And so when you do a cultural assessment, you look at where you are today versus where you want your organization to be and what are the steps to get from a to the other. And so when you do a cultural assessment, you look at where you are today versus where you want your organization to be and what are the steps to get from a to the other. And so when you do a cultural assessment, you look at where you are today versus where you want your organization to be. And so when you do a cultural assessment, you look at where you are today versus where you want your organization to be. And what are the steps to get from a to the other. And so when you do a cultural assessment, you look at where you are today versus where you want your organization to be. And what are the steps to get from a to the other. And so when you do a, what are the steps to get from a to the other. And so when you do a, what are the steps to get from a, what are the steps to get from a, what are the steps to get from a, what are the steps to get from a, what are the steps to get from a, what are the steps to get from a, what are the steps to get from a, what are the steps to get from a, where you want your organization to be, and what are the steps to get from A to Z? And how do you do that in a way that then filters and flows through your entire organization? So that by the time you get to performance reviews or your next strategic planning cycle, we're standing up a new program or redesigning your organization, there is an friction with what it is you really want from your employees and what you're trying to achieve as an organization and how you're getting there. So cultural assessment, well, it seems like a sort of unnecessary. It's actually very effective and super supportive of your articles. Okay, I've talked a lot. Lots of ideas. Hopefully, good menu for you to pick at least something from a fithesical. I'm going to pass it back to Mara to kind of bring it all together for us. Thank you, Sissy. So, how can employers win at work for six variants? So, practically speaking, they keep it implementing a successful work for six variants. Really starts with understanding what your workforce wants. That can be through a survey or focus groups doing doing user research, but really putting their voice at the center of these initiatives. And then working to prioritize which ones within your organization and help you achieve your overall business objectives. So we're going to walk through our perspective on what it means to really bring work for six periods to an organization. So starting with employers need to think about beyond employment engagement. And so what we mean by this is it's not just one data point, our employees engaged, you know, how I retained my staffer did I recruit an attractive, you know, this number of individuals? It's beyond that and a combination of those aid characteristics that really helps to retain employees and attract the right talent and enhance the overall workforce experience. So an example of that is, you know, looking at physical workspace. So, you know, do they are they able to do their work remotely? In some cases, as Susie mentioned, they do they have everything they need in the office in order to be productive, to get things done in terms of head-stallam work versus hue collaboration, culture, do they, are they recognized for their work? It was great as a hundred dollar gift card is for a great job and something. It in a lot of cases what we found is it's equally just as advantageous to how we manage our reach out and saying thank you so much. You did a great job and acknowledge that. And that's why we know what can motivate and keep employees engaged. And another area is technology. I think we mentioned you know it's a way to help collaborate, work remotely, but it can also be an impediment to when technology isn't easily accessible within organization. The second one that we really focus on and this goes back to its Susie set of Fiesta's and also what I mentioned around the voice of the workforce. And so, incorporating that throughout the design is incredibly important. One of the first things that we often do is pull survey of a particular group to understand what they really hear about. What are their preferences? If they had, it's not just, I want more money, but but rather if you had a choice between a little bit more flexibility in your work schedule versus you know increased recognition, you know, where do they release stand in terms of what should actually get prioritized? a workforce once a year through an annual HR survey of how do you really feel like you know what leadership considerations should we implement or you know how can we enhance the performance management process? It's really on an ongoing basis and even in in an informal way, you as leaders and managers of teams asking your teams, you know, what they care about, what their frustrated about, what their preferences are, and taking small steps where you can to try to incorporate that into how they work. And you know, sometimes it's challenging to do organization-wide changes that take a lot of funding and investment and capabilities. So often, you know, you know, you can do a lot of things. And you know, you can do a lot of things. And you know, you can do a lot of things. And you know, you can do a lot of things. And you know, you can do a lot of things. And you know, you can do a lot of things. And you know, you can do a lot of things. And you know, you can do a lot of things. And you know, you can do a lot of things. And you know, you can do a lot of things. And you know, you can do a lot of things. And you know, you can do a lot of things. And you know, you can do a lot of things. And you know, you can do a lot of things. And you know, you can do a lot of things. And you know, you can do a lot of things. And you know, you can do a lot of things. And you know, you can do a lot of things. And you know, you can do a lot of things. And you know, you can do a lot of things. And you know, you can do a lot of things. And you know, you can do a lot of things. And you know, you can do a lot of things. And you know, you can do a lot of things. And you know, you can do a lot of things. And you know, you can do a lot of things. And you know, you can do a lot of things. And you know, you can do a lot of things. And you know, sometimes it's challenging to do organization why changes that take a lot of funding, investment, So oftentimes, a way to do that is through, you know, more informal touch points on individual teams that you're leading. We found that that's a concept that's a quick way to be able workplace technology and we've talked about this a little bit and I think really with this it's how do you boost productivity? Workers want to do a great job. They're they're at the perform well. They, you know, are often very mission-driven. They want to grow their careers and they want to try to be as efficient as they can in their job. And so really looking at how this can give you a major accelerator based on how you work. Do you want an hands collaboration? Do you want to try to create more opportunities for a hybrid or remote work? And, you know, through technology, that can really enhance and accelerate a lot of those activities. And so with all of these four areas combined, this is what we've seen across, you know, four-Jet 500 companies, federal agencies, city, city, agencies as well, as kind of the key characteristics and commonalities amongst the most effective and fully engagement and workforce experience programs. And just to kind of round things out with this globe is, you know, if workforce experience, I recognize, you know, can seem kind of fluffy and like, oh, that's a nice to have. But our premise is that your workforce is the most important asset in your organization. And if they are in the most important asset, you really want to invest in them. To, you know, day to day, be the driver of change in, you know, be the lower productivity. We've just found that, you know, by investing in this, you know, day to day be the driver of change in, you know, be the alert productivity. We've just found that, you know, by investing in this and putting the workforce as, you know, the center part of what you invest in as an organization in leaders. It's not only about retention talent, you know, the cyber workforce crisis, but people want to do work well and they're able to get more done and achieve more without you, you know, directly supervising and micro managing or looking at everything because they just genuinely want to work for you and are able to be more productive overall in that way. So with that, that is our presentation for today. I hope there's a little bit of, you know, the landscape of the cyber workforce with some practical tips that you can take away for how to just think about, you know, improving the overall workforce experience and investing in your employees. So with this, you know, we know that all of you are in the trenches every day. You're facing this, you're living this. And we are just interested to hear from you. And we are interested to hear from you. And we are interested to hear from you. And we are interested to hear from you. And we are interested to hear from you. And we are interested to hear from you. And we are interested to hear from you. And we are interested to hear from you. And we are interested to hear from you. And we are interested to hear from you. And we are interested to hear from you. And we are interested to hear from you. And we are interested to hear from you. And we are interested to hear from you. And we are interested to hear from you. And we are interested to hear from you. And we are interested to hear from you. And we are interested to hear from you more excited. I'm going to be a little bit more excited. I'm going to be a little bit more excited. I'm going to be a little bit more excited. I'm going to be a little bit more excited. I'm going to be a little bit more excited. I'm going to be a little bit more excited. I'm going to be a little bit more excited. I'm going to be a little bit more excited. I'm going to be a little bit more excited. I'm going to be a little bit more excited. I'm going to be a little bit more excited. I'm going to be a little bit more excited. I'm going to be a little bit more excited. I'm going to be a little bit more excited. I'm going to be a little bit more excited. I'm going to be a little bit more excited. I'm going to be a little bit more excited. I'm going to be a little bit more excited. I'm going to be a little bit more excited. I'm going to be a little bit more excited. I'm going to be a little bit more excited. I'm going to be a little bit more excited. I'm going get someone. Sorry. Don't be shy. So yeah, I'm so worried. How is something or what hasn't worked well, you know, that's something that's easier to start with too. But we'd love to just hear from all of you because I think, you know, how we've aggregated a lot of these best practices and what we've come with, it is by, you know, hearing other experiences from other organizations. And so, one of the best and most effective things, I feel like I take away from conferences often is hearing from many peers and what they're facing and, you know, let, you know, similarly, I could bring back to what I'm leading. What about you? Oh, I see him back there. I'm going to the water. I'm going to the water. I'm going to the water. I'm going to the water. I'm going to the water. I'm going to the water. I'm going to the water. I'm going to the water. I'm going to the water. I'm going to the water. I'm going to the water. I'm going to the water. I'm going to the water. I'm going to the water. I'm going to the water. I'm going to the water. I'm going to the water. I'm going to the water. I'm going to the water. I'm going to the water. I'm going to the water. I'm going to the water. I'm going to the water. I'm going to the water. I'm going to the water. I'm going to the water. I'm going to the water. I'm going to the water. I'm going to the water. I'm going to the water. I'm going to the water. I'm going to the water. I'm going to the water. I'm going to the water. I'm going to the water. I'm going to the water. I'm going to the water. I'm going to the water. I'm going to the water. I'm going to the water. I'm going to the water. I'm going to the water. I'm going to the water. I'm going to the water. I'm going to the water. I'm going to the water. I'm going to the water. I'm going to the water. I'm going to the water. I'm going to the water. I'm going to the water. I'm going to the water. I'm going to the water. I'm going to the water. I'm going to the water. I'm going to the water. I'm going to the water. I'm going to the water. I'm going to the water. I'm going to the water. I'm going to the water. I Thank you.\""
      ]
     },
     "execution_count": 39,
     "metadata": {},
     "output_type": "execute_result"
    }
   ],
   "source": [
    "selective_transcribed_content"
   ]
  },
  {
   "cell_type": "markdown",
   "id": "a20896b4",
   "metadata": {},
   "source": [
    "## Selective topic summarization"
   ]
  },
  {
   "cell_type": "markdown",
   "id": "6f8ab415",
   "metadata": {},
   "source": [
    "We can use this selective content to now summarize using the already available pipeline !"
   ]
  },
  {
   "cell_type": "markdown",
   "id": "06f009d5",
   "metadata": {},
   "source": [
    "# And Much More !!"
   ]
  }
 ],
 "metadata": {
  "kernelspec": {
   "display_name": "Python 3",
   "language": "python",
   "name": "python3"
  },
  "language_info": {
   "codemirror_mode": {
    "name": "ipython",
    "version": 3
   },
   "file_extension": ".py",
   "mimetype": "text/x-python",
   "name": "python",
   "nbconvert_exporter": "python",
   "pygments_lexer": "ipython3",
   "version": "3.8.8"
  }
 },
 "nbformat": 4,
 "nbformat_minor": 5
}
